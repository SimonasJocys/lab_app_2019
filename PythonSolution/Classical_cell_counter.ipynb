{
 "cells": [
  {
   "cell_type": "markdown",
   "metadata": {},
   "source": [
    "# Classical cell counter"
   ]
  },
  {
   "cell_type": "markdown",
   "metadata": {},
   "source": [
    "__This is to be converted into Kiwi__"
   ]
  },
  {
   "cell_type": "code",
   "execution_count": null,
   "metadata": {},
   "outputs": [],
   "source": [
    "import numpy as np\n",
    "import matplotlib.pyplot as plt\n",
    "from skimage.morphology import remove_small_objects, label\n",
    "import cv2"
   ]
  },
  {
   "cell_type": "markdown",
   "metadata": {},
   "source": [
    "## Tools\n"
   ]
  },
  {
   "cell_type": "code",
   "execution_count": null,
   "metadata": {},
   "outputs": [],
   "source": [
    "def clip(x): \n",
    "    '''\n",
    "    Clip maximum to 4 sigma\n",
    "    '''\n",
    "    return np.clip(x, a_min=0, a_max=6*np.std(x))\n",
    "\n",
    "def norm(x): \n",
    "    x = clip(x)\n",
    "    return (x) / ( np.max(x)) # clip at 6-sigma ?\n",
    "\n",
    "def binary_mask(x, treshold=None, sigmas = 2):\n",
    "    if treshold:\n",
    "        return norm(x) > treshold\n",
    "    else:\n",
    "        return norm(x) > sigmas*np.std(norm(x))"
   ]
  },
  {
   "cell_type": "markdown",
   "metadata": {},
   "source": [
    "## Load image"
   ]
  },
  {
   "cell_type": "code",
<<<<<<< HEAD
   "execution_count": null,
=======
   "execution_count": 3,
>>>>>>> 311be243a9da4ae202e70c87f3a1b19fcc3e1e93
   "metadata": {},
   "outputs": [],
   "source": [
    "img = cv2.imread('img/Simono/2017-10-24 NIH FBS plius .click-it dapi 3.tif')\n",
    "plt.imshow(norm(img))\n",
    "plt.show()"
   ]
  },
  {
   "cell_type": "markdown",
   "metadata": {},
   "source": [
    "# The counting procedure"
   ]
  },
  {
   "cell_type": "code",
<<<<<<< HEAD
   "execution_count": null,
=======
   "execution_count": 4,
>>>>>>> 311be243a9da4ae202e70c87f3a1b19fcc3e1e93
   "metadata": {},
   "outputs": [],
   "source": [
    "cell = np.asarray(img[:,:,0], dtype=np.float32)"
   ]
  },
  {
   "cell_type": "code",
<<<<<<< HEAD
   "execution_count": null,
=======
   "execution_count": 5,
>>>>>>> 311be243a9da4ae202e70c87f3a1b19fcc3e1e93
   "metadata": {},
   "outputs": [],
   "source": [
    "binary_treshold = 0.46\n",
    "min_size = 16 # 16 px area is minimal\n"
   ]
  },
  {
   "cell_type": "code",
<<<<<<< HEAD
   "execution_count": null,
=======
   "execution_count": 6,
>>>>>>> 311be243a9da4ae202e70c87f3a1b19fcc3e1e93
   "metadata": {},
   "outputs": [],
   "source": [
    "plt.figure(figsize = (17,17))\n",
    "\n",
    "# Binary tresholded image\n",
    "clean_cell_bw = remove_small_objects(\n",
    "                    binary_mask(cell, binary_treshold),\n",
    "                    min_size=min_size\n",
    "                )\n",
    "# \n",
    "# clean_cell_bw = remove_small_objects(binary_mask(cell), min_size = min_size)\n",
    "\n",
    "\n",
    "# count cells\n",
    "labeled = label(clean_cell_bw, background=0)\n",
    "\n",
    "\n",
    "# ------- display cells on rgb image ----\n",
    "rgb = np.zeros(list(cell.shape)+[3], dtype = np.uint8)\n",
    "\n",
    "rgb[:,:, 1] =  cell\n",
    "\n",
    "# color binary mask region\n",
    "rgb[:,:, 0] =  clean_cell_bw*cell \n",
    "\n",
    "\n",
    "plt.subplot(1,2,1)\n",
    "plt.title('Original image, \\n superimposed segmentation mask with cell overlapping nuclei ')\n",
    "plt.imshow(rgb)\n",
    "\n",
    "plt.subplot(1,2,2)\n",
    "plt.title('Cells Count: '+ str(np.max(labeled)))\n",
    "\n",
    "# count the number of cells\n",
    "N = np.max(labeled)\n",
    "\n",
    "plt.imshow(labeled, cmap='nipy_spectral')\n",
    "\n",
    "print( N)"
   ]
  }
 ],
 "metadata": {
  "kernelspec": {
   "display_name": "hackathon",
   "language": "python",
   "name": "hackathon"
  },
  "language_info": {
   "codemirror_mode": {
    "name": "ipython",
    "version": 2
   },
   "file_extension": ".py",
   "mimetype": "text/x-python",
   "name": "python",
   "nbconvert_exporter": "python",
   "pygments_lexer": "ipython2",
   "version": "2.7.15"
  }
 },
 "nbformat": 4,
 "nbformat_minor": 2
}
