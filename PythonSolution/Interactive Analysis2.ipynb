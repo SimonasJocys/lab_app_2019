{
 "cells": [
  {
   "cell_type": "code",
   "execution_count": null,
   "metadata": {},
   "outputs": [],
   "source": [
    "from __future__ import print_function\n",
    "from ipywidgets import interact, interact_manual, interactive, fixed, interact_manual\n",
    "from ipywidgets import Layout\n",
    "import ipywidgets as widgets"
   ]
  },
  {
   "cell_type": "code",
   "execution_count": null,
   "metadata": {},
   "outputs": [],
   "source": []
  },
  {
   "cell_type": "code",
   "execution_count": null,
   "metadata": {
    "scrolled": true
   },
   "outputs": [],
   "source": [
    "import numpy as np\n",
    "import matplotlib.pyplot as plt\n",
    "from skimage.morphology import remove_small_objects, label\n",
    "\n",
    "import cv2"
   ]
  },
  {
   "cell_type": "markdown",
   "metadata": {},
   "source": [
    "## Tools"
   ]
  },
  {
   "cell_type": "code",
   "execution_count": null,
   "metadata": {},
   "outputs": [],
   "source": [
    "def clip(x): \n",
    "    '''\n",
    "    Clip maximum to 4 sigma\n",
    "    '''\n",
    "    return np.clip(x, a_min=0, a_max=6*np.std(x))"
   ]
  },
  {
   "cell_type": "code",
   "execution_count": null,
   "metadata": {},
   "outputs": [],
   "source": [
    "def norm(x): \n",
    "    x = clip(x)\n",
    "    return (x) / ( np.max(x)) # clip at 6-sigma ?"
   ]
  },
  {
   "cell_type": "code",
   "execution_count": null,
   "metadata": {},
   "outputs": [],
   "source": [
    "def binary_mask(x, treshold=None, sigmas = 2):\n",
    "    if treshold:\n",
    "        return norm(x) > treshold\n",
    "    else:\n",
    "        return norm(x) > sigmas*np.std(norm(x))"
   ]
  },
  {
   "cell_type": "markdown",
   "metadata": {},
   "source": [
    "# Analysis"
   ]
  },
  {
   "cell_type": "code",
   "execution_count": null,
   "metadata": {},
   "outputs": [],
   "source": [
    "img = cv2.imread('img/Simono/2017-10-24 NIH FBS plius .click-it dapi 3.tif')"
   ]
  },
  {
   "cell_type": "code",
   "execution_count": null,
   "metadata": {},
   "outputs": [],
   "source": [
    "# Clip everything at 4 sigma and normalize"
   ]
  },
  {
   "cell_type": "code",
   "execution_count": null,
   "metadata": {},
   "outputs": [],
   "source": [
    "plt.imshow(norm(img))"
   ]
  },
  {
   "cell_type": "code",
   "execution_count": null,
   "metadata": {},
   "outputs": [],
   "source": [
    "nucleus = np.asarray(img[:,:,0], dtype=np.float32)\n",
    "# cell    = np.asarray(img[:,:,1], dtype=np.float32)"
   ]
  },
  {
   "cell_type": "code",
   "execution_count": null,
   "metadata": {},
   "outputs": [],
   "source": [
    "plt.imshow(nucleus)"
   ]
  },
  {
   "cell_type": "code",
   "execution_count": null,
   "metadata": {},
   "outputs": [],
   "source": [
    "clean_nucleus_bw = remove_small_objects(binary_mask(nucleus), min_size=32)\n"
   ]
  },
  {
   "cell_type": "code",
   "execution_count": null,
   "metadata": {},
   "outputs": [],
   "source": [
    "# plt.figure(figsize = (10,10))\n",
    "# plt.imshow(\n",
    "#     clean_nucleus_bw\n",
    "# )\n",
    "# # plt.colorbar()"
   ]
  },
  {
   "cell_type": "markdown",
   "metadata": {},
   "source": [
    "## Adjust size treshold for cells"
   ]
  },
  {
   "cell_type": "code",
   "execution_count": null,
   "metadata": {},
   "outputs": [],
   "source": [
    "def adjust_size_treshold(cell, nucleus, min_size, binary_treshold):\n",
    "    plt.figure(figsize = (17,17))\n",
    "    clean_cell_bw = remove_small_objects(\n",
    "                        binary_mask(cell, binary_treshold),\n",
    "                        min_size=min_size\n",
    "                    )\n",
    "    \n",
    "    clean_nucleus_bw = remove_small_objects(binary_mask(nucleus), min_size=32)\n",
    "\n",
    "    \n",
    "    # count cells\n",
    "    labeled = label(clean_cell_bw, background=0)\n",
    "    \n",
    "    \n",
    "    # display cells\n",
    "    rgb = np.zeros(list(cell.shape)+[3], dtype = np.uint8)\n",
    "    \n",
    "    \n",
    "    rgb[:,:, 1] =  cell\n",
    "    \n",
    "    # color binary mask region\n",
    "    rgb[:,:, 0] =  clean_cell_bw*cell \n",
    "    rgb[:,:, 2] =  clean_nucleus_bw*nucleus*clean_cell_bw\n",
    "    \n",
    "    \n",
    "    \n",
    "    plt.subplot(1,2,1)\n",
    "    plt.title('Original image, \\n superimposed segmentation mask with cell overlapping nuclei ')\n",
    "    plt.imshow(rgb)\n",
    "    \n",
    "    plt.subplot(1,2,2)\n",
    "    plt.title('Cells Count: '+ str(np.max(labeled)))\n",
    "    \n",
    "    # count the number of cells\n",
    "    N = np.max(labeled)\n",
    "    \n",
    "    plt.imshow(labeled, cmap='nipy_spectral')\n",
    "    \n",
    "    return N\n",
    "    \n",
    "    # plt.colorbar()"
   ]
  },
  {
   "cell_type": "code",
   "execution_count": null,
   "metadata": {},
   "outputs": [],
   "source": [
    "interact_manual(lambda min_size, binary_treshold: adjust_size_treshold(nucleus, nucleus*0, min_size, binary_treshold), \n",
    "         min_size=widgets.IntSlider(min=0,max=400,step=16,value=16,\n",
    "                                    layout=Layout(width='600px', height='30px')\n",
    "                                   ),\n",
    "         binary_treshold = widgets.FloatSlider(min=0,max=1,step=0.01,value=0.43, \n",
    "                                               layout=Layout(width='600px', height='30px')),\n",
    "        );"
   ]
  },
  {
   "cell_type": "markdown",
   "metadata": {},
   "source": [
    "# Count in all images"
   ]
  },
  {
   "cell_type": "code",
   "execution_count": null,
   "metadata": {},
   "outputs": [],
   "source": [
    "from glob import glob\n",
    "from tqdm import tqdm\n",
    "import os"
   ]
  },
  {
   "cell_type": "code",
   "execution_count": null,
   "metadata": {},
   "outputs": [],
   "source": [
    "paths = glob('img/Simono/*.tif')"
   ]
  },
  {
   "cell_type": "code",
   "execution_count": null,
   "metadata": {},
   "outputs": [],
   "source": [
    "cell_counts = {}"
   ]
  },
  {
   "cell_type": "code",
   "execution_count": null,
   "metadata": {},
   "outputs": [],
   "source": [
    "try:\n",
    "    os.mkdir('./results')\n",
    "except: pass"
   ]
  },
  {
   "cell_type": "code",
   "execution_count": null,
   "metadata": {},
   "outputs": [],
   "source": [
    "for path in tqdm(paths):\n",
    "    # read img \n",
    "    img = cv2.imread(path)\n",
    "    nucleus = np.asarray(img[:,:,0], dtype=np.float32)\n",
    "    cell    = np.asarray(img[:,:,1], dtype=np.float32)\n",
    "    \n",
    "    name = os.path.basename(path)\n",
    "    \n",
    "    min_size = 32\n",
    "    binary_treshold = 0.88\n",
    "    \n",
    "    \n",
    "    cell_counts[name] = adjust_size_treshold(nucleus, nucleus*0, min_size, binary_treshold)\n",
    "    plt.savefig(os.path.join('./results', name))\n",
    "    "
   ]
  },
  {
   "cell_type": "markdown",
   "metadata": {},
   "source": [
    "# Save XLS"
   ]
  },
  {
   "cell_type": "code",
   "execution_count": null,
   "metadata": {},
   "outputs": [],
   "source": [
    "import pandas as pd"
   ]
  },
  {
   "cell_type": "code",
   "execution_count": null,
   "metadata": {},
   "outputs": [],
   "source": [
    "df = pd.DataFrame(list(cell_counts.items()), columns=['img_name', 'cell count'])"
   ]
  },
  {
   "cell_type": "code",
   "execution_count": null,
   "metadata": {},
   "outputs": [],
   "source": [
    "df"
   ]
  },
  {
   "cell_type": "code",
   "execution_count": null,
   "metadata": {},
   "outputs": [],
   "source": [
    "df.to_csv('results.csv')"
   ]
  },
  {
   "cell_type": "code",
   "execution_count": null,
   "metadata": {},
   "outputs": [],
   "source": [
    "df.to_excel('results.xls')"
   ]
  },
  {
   "cell_type": "code",
   "execution_count": null,
   "metadata": {},
   "outputs": [],
   "source": []
  }
 ],
 "metadata": {
  "kernelspec": {
   "display_name": "Python 3",
   "language": "python",
   "name": "python3"
  },
  "language_info": {
   "codemirror_mode": {
    "name": "ipython",
    "version": 3
   },
   "file_extension": ".py",
   "mimetype": "text/x-python",
   "name": "python",
   "nbconvert_exporter": "python",
   "pygments_lexer": "ipython3",
   "version": "3.7.1"
  }
 },
 "nbformat": 4,
 "nbformat_minor": 2
}
