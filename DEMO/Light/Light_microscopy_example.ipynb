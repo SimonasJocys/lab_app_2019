{
 "cells": [
  {
   "cell_type": "markdown",
   "metadata": {},
   "source": [
    "# Classical cell counter for light microscopy\n",
    "Contents:\n",
    "1. Packages\n",
    "2. Useful functions\n",
    "3. Image loading\n",
    "4. Algorithm for counting\n",
    "5. Visual counting results\n",
    "6. Histogram for cells sizes"
   ]
  },
  {
   "cell_type": "markdown",
   "metadata": {},
   "source": [
    "## Packages"
   ]
  },
  {
   "cell_type": "code",
   "execution_count": null,
   "metadata": {},
   "outputs": [],
   "source": [
    "import numpy as np\n",
    "import matplotlib.pyplot as plt\n",
    "from skimage.morphology import remove_small_objects, label\n",
    "from skimage.measure import regionprops\n",
    "from skimage.exposure import equalize_hist, adjust_gamma\n",
    "import cv2"
   ]
  },
  {
   "cell_type": "markdown",
   "metadata": {},
   "source": [
    "## Useful functions"
   ]
  },
  {
   "cell_type": "code",
   "execution_count": null,
   "metadata": {},
   "outputs": [],
   "source": [
    "def clip(x): \n",
    "    return np.clip(x, a_min=0, a_max=6*np.std(x))\n",
    "\n",
    "def norm(x):\n",
    "    x = clip(x)\n",
    "    return (x) / ( np.max(x))\n",
    "\n",
    "def binary_mask(x, treshold=None, sigmas = 2):\n",
    "    if treshold:\n",
    "        return norm(x) > treshold\n",
    "    else:\n",
    "        return norm(x) > sigmas*np.std(norm(x))\n",
    "    \n",
    "def remove_big_objects(bw, max_size):\n",
    "    return bw^remove_small_objects(bw, min_size = max_size)"
   ]
  },
  {
   "cell_type": "markdown",
   "metadata": {},
   "source": [
    "## Image loading"
   ]
  },
  {
   "cell_type": "code",
   "execution_count": null,
   "metadata": {},
   "outputs": [],
   "source": [
    "img = cv2.imread('img/example2.png') # picture for example, more images in 'img/data' folder\n",
    "plt.imshow(norm(img))\n",
    "plt.show()"
   ]
  },
  {
   "cell_type": "markdown",
   "metadata": {},
   "source": [
    "# Algorithm"
   ]
  },
  {
   "cell_type": "code",
   "execution_count": null,
   "metadata": {},
   "outputs": [],
   "source": [
    "# making an array from the image\n",
    "src_gray = np.asarray(cv2.cvtColor(img, cv2.COLOR_BGR2GRAY), dtype=np.float32)\n",
    "cell =  np.asarray(src_gray, dtype=np.float32)\n",
    "\n",
    "# important parameters\n",
    "binary_treshold = 0.46\n",
    "min_size = 16 # 16 px area is minimal\n",
    "\n",
    "# Changing contrast\n",
    "cell = adjust_gamma(cell, 4)\n",
    "\n",
    "# Binary tresholded image\n",
    "clean_cell_bw = remove_big_objects(\n",
    "            remove_small_objects(\n",
    "                            binary_mask(cell, 0.42),\n",
    "                            min_size=120\n",
    "                        ),\n",
    "                max_size=1800)\n",
    "\n",
    "# count cells\n",
    "labeled = label(clean_cell_bw, background=0)"
   ]
  },
  {
   "cell_type": "markdown",
   "metadata": {},
   "source": [
    "## Visual counting results"
   ]
  },
  {
   "cell_type": "code",
   "execution_count": null,
   "metadata": {},
   "outputs": [],
   "source": [
    "plt.figure(figsize = (17,17))\n",
    "\n",
    "rgb = np.zeros(list(cell.shape)+[3], dtype = np.uint8)\n",
    "rgb = np.copy(img)\n",
    "\n",
    "# color binary mask region\n",
    "rgb[:,:, 0] =  rgb[:,:, 0] + clean_cell_bw*cell *255 \n",
    "\n",
    "plt.subplot(1,2,1)\n",
    "plt.title('Original image, \\n superimposed segmentation mask with cell overlapping nuclei ')\n",
    "plt.imshow(rgb)\n",
    "\n",
    "plt.subplot(1,2,2)\n",
    "plt.title('Cells Count: '+ str(np.max(labeled)))\n",
    "\n",
    "# count the number of cells\n",
    "N = np.max(labeled)\n",
    "\n",
    "plt.imshow(labeled, cmap='nipy_spectral')\n",
    "\n",
    "print(N)"
   ]
  },
  {
   "cell_type": "markdown",
   "metadata": {},
   "source": [
    "## Histogram for cells sizes"
   ]
  },
  {
   "cell_type": "code",
   "execution_count": null,
   "metadata": {},
   "outputs": [],
   "source": [
    "cells_sizes = [x.area for x in regionprops(labeled)]\n",
    "%matplotlib inline\n",
    "plt.hist(cells_sizes, density=False, bins=10)\n",
    "plt.ylabel('Number of cells')\n",
    "plt.xlabel('Area, px')\n",
    "plt.title('Cells\\' sizes')\n",
    "plt.show()"
   ]
  },
  {
   "cell_type": "code",
   "execution_count": null,
   "metadata": {},
   "outputs": [],
   "source": []
  }
 ],
 "metadata": {
  "kernelspec": {
   "display_name": "Python 3",
   "language": "python",
   "name": "python3"
  },
  "language_info": {
   "codemirror_mode": {
    "name": "ipython",
    "version": 3
   },
   "file_extension": ".py",
   "mimetype": "text/x-python",
   "name": "python",
   "nbconvert_exporter": "python",
   "pygments_lexer": "ipython3",
   "version": "3.6.8"
  }
 },
 "nbformat": 4,
 "nbformat_minor": 2
}
